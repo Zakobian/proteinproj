{
 "cells": [
  {
   "cell_type": "markdown",
   "metadata": {
    "heading_collapsed": true
   },
   "source": [
    "# Libraries"
   ]
  },
  {
   "cell_type": "code",
   "execution_count": 1,
   "metadata": {
    "hidden": true
   },
   "outputs": [
    {
     "name": "stdout",
     "output_type": "stream",
     "text": [
      "PyRosetta-4 2020 [Rosetta PyRosetta4.Release.python36.linux 2020.34+release.a69d51d4b89e70701e22c8c95b6c13df85a3f23c 2020-08-15T17:06:06] retrieved from: http://www.pyrosetta.org\n",
      "(C) Copyright Rosetta Commons Member Institutions. Created in JHU by Sergey Lyskov and PyRosetta Team.\n",
      "\u001b[0mcore.init: \u001b[0mChecking for fconfig files in pwd and ./rosetta/flags\n",
      "\u001b[0mcore.init: \u001b[0mRosetta version: PyRosetta4.Release.python36.linux r261 2020.34+release.a69d51d a69d51d4b89e70701e22c8c95b6c13df85a3f23c http://www.pyrosetta.org 2020-08-15T17:06:06\n",
      "\u001b[0mcore.init: \u001b[0mcommand: PyRosetta -ex1 -ex2aro -database /local/scratch/public/zs334/miniconda3/envs/biopy3.6/lib/python3.6/site-packages/pyrosetta-2020.34+release.a69d51d-py3.6-linux-x86_64.egg/pyrosetta/database\n",
      "\u001b[0mbasic.random.init_random_generator: \u001b[0m'RNG device' seed mode, using '/dev/urandom', seed=67027817 seed_offset=0 real_seed=67027817\n",
      "\u001b[0mbasic.random.init_random_generator: \u001b[0mRandomGenerator:init: Normal mode, seed=67027817 RG_type=mt19937\n",
      "PyRosetta-4 2020 [Rosetta PyRosetta4.Release.python36.linux 2020.34+release.a69d51d4b89e70701e22c8c95b6c13df85a3f23c 2020-08-15T17:06:06] retrieved from: http://www.pyrosetta.org\n",
      "(C) Copyright Rosetta Commons Member Institutions. Created in JHU by Sergey Lyskov and PyRosetta Team.\n",
      "\u001b[0mcore.init: \u001b[0mChecking for fconfig files in pwd and ./rosetta/flags\n",
      "\u001b[0mcore.init: \u001b[0mRosetta version: PyRosetta4.Release.python36.linux r261 2020.34+release.a69d51d a69d51d4b89e70701e22c8c95b6c13df85a3f23c http://www.pyrosetta.org 2020-08-15T17:06:06\n",
      "\u001b[0mcore.init: \u001b[0mcommand: PyRosetta -ex1 -ex2aro -database /local/scratch/public/zs334/miniconda3/envs/biopy3.6/lib/python3.6/site-packages/pyrosetta-2020.34+release.a69d51d-py3.6-linux-x86_64.egg/pyrosetta/database\n",
      "\u001b[0mbasic.random.init_random_generator: \u001b[0m'RNG device' seed mode, using '/dev/urandom', seed=-2062032440 seed_offset=0 real_seed=-2062032440\n",
      "\u001b[0mbasic.random.init_random_generator: \u001b[0mRandomGenerator:init: Normal mode, seed=-2062032440 RG_type=mt19937\n"
     ]
    }
   ],
   "source": [
    "import torch\n",
    "import torch.optim \n",
    "from TorchProteinLibrary import *\n",
    "import Bio\n",
    "import numpy as np\n",
    "import _Volume\n",
    "import matplotlib.pylab as plt\n",
    "import matplotlib.animation\n",
    "import numpy as np\n",
    "import mpl_toolkits.mplot3d.axes3d as p3\n",
    "from functools import partial\n",
    "from torch import nn as nn\n",
    "from torch.nn import functional as F\n",
    "from pyrosetta import *;pyrosetta.init()\n",
    "import torch\n",
    "import torch.optim \n",
    "from TorchProteinLibrary import *\n",
    "import Bio\n",
    "import numpy as np\n",
    "import _Volume\n",
    "import matplotlib.pylab as plt\n",
    "import matplotlib.animation\n",
    "import numpy as np\n",
    "import mpl_toolkits.mplot3d.axes3d as p3\n",
    "from functools import partial\n",
    "from torch import nn as nn\n",
    "from torch.nn import functional as F\n",
    "from pyrosetta import *;pyrosetta.init()\n",
    "from IPython.display import HTML"
   ]
  },
  {
   "cell_type": "markdown",
   "metadata": {},
   "source": [
    "# Core"
   ]
  },
  {
   "cell_type": "code",
   "execution_count": null,
   "metadata": {},
   "outputs": [],
   "source": [
    "class Energy(nn.Module):\n",
    "    \"\"\"\n",
    "    We can implement our own custom autograd Functions by subclassing\n",
    "    torch.autograd.Function and implementing the forward and backward passes\n",
    "    which operate on Tensors.\n",
    "    \"\"\"\n",
    "    def __init__(self):\n",
    "        super(Energy, self).__init__()\n",
    "    \n",
    "    def forward(self, new_angles, new_coordinates):\n",
    "        \"\"\"\n",
    "        In the forward pass we receive a Tensor containing the input and return\n",
    "        a Tensor containing the output. ctx is a context object that can be used\n",
    "        to stash information for backward computation. You can cache arbitrary\n",
    "        objects for use in the backward pass using the ctx.save_for_backward method.\n",
    "        \"\"\"\n",
    "#         print(new_coordinates)\n",
    "        ##Initialize our pose with correct positions\n",
    "        self.update_pose(new_angles,new_coordinates)\n",
    "        self.min_map.copy_dofs_from_pose( self.pose, self.dofs );\n",
    "        self.shape = new_angles.shape\n",
    "        self.dtype= new_angles.type\n",
    "        return self.nrg(new_angles,self.multifunc,self.dofs,self.dof_locs)\n",
    "\n"
   ]
  }
 ],
 "metadata": {
  "kernelspec": {
   "display_name": "Python 3",
   "language": "python",
   "name": "python3"
  },
  "language_info": {
   "codemirror_mode": {
    "name": "ipython",
    "version": 3
   },
   "file_extension": ".py",
   "mimetype": "text/x-python",
   "name": "python",
   "nbconvert_exporter": "python",
   "pygments_lexer": "ipython3",
   "version": "3.6.5"
  },
  "toc": {
   "base_numbering": 1,
   "nav_menu": {},
   "number_sections": true,
   "sideBar": true,
   "skip_h1_title": false,
   "title_cell": "Table of Contents",
   "title_sidebar": "Contents",
   "toc_cell": false,
   "toc_position": {},
   "toc_section_display": true,
   "toc_window_display": false
  }
 },
 "nbformat": 4,
 "nbformat_minor": 4
}
